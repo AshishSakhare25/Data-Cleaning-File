{
 "cells": [
  {
   "cell_type": "code",
   "execution_count": null,
   "id": "2f41fe87-638c-4fb3-8de3-2d3d06974b4a",
   "metadata": {},
   "outputs": [],
   "source": [
    "import requests\n",
    "from bs4 import BeautifulSoup\n",
    "import pandas as pd"
   ]
  },
  {
   "cell_type": "code",
   "execution_count": null,
   "id": "5c8450ad-fae2-4863-8aff-f720473258c3",
   "metadata": {},
   "outputs": [],
   "source": [
    "import requests\n",
    "from bs4 import BeautifulSoup\n",
    "import pandas as pd\n",
    "\n",
    "# List of e-commerce store URLs\n",
    "store_urls = [\n",
    "    {'name': 'Amazon India', 'url': 'https://www.amazon.in'},\n",
    "    {'name': 'Flipkart', 'url': 'https://www.flipkart.com'},\n",
    "    {'name': 'Snapdeal', 'url': 'https://www.snapdeal.com'},\n",
    "    {'name': 'Myntra', 'url': 'https://www.myntra.com'}\n",
    "]"
   ]
  },
  {
   "cell_type": "code",
   "execution_count": null,
   "id": "5af65021-2335-4666-b682-bc375dc22ce2",
   "metadata": {},
   "outputs": [],
   "source": [
    "# Function to scrape contact information from a website\n",
    "def scrape_store(store):\n",
    "    response = requests.get(store['url'])\n",
    "    soup = BeautifulSoup(response.text, 'html.parser')"
   ]
  },
  {
   "cell_type": "code",
   "execution_count": null,
   "id": "ac6dc96c-30ee-4dd6-8086-b4f6ea50d0a3",
   "metadata": {},
   "outputs": [],
   "source": [
    " # Extract phone number (example implementation, actual scraping will depend on the website structure)\n",
    "    phone_tag = soup.find('a', href=lambda href: href and \"tel:\" in href)\n",
    "    phone_number = phone_tag['href'].split(':')[1] if phone_tag else 'N/A'"
   ]
  },
  {
   "cell_type": "code",
   "execution_count": null,
   "id": "048c9665-0e76-4395-8bba-5cbed14bd669",
   "metadata": {},
   "outputs": [],
   "source": [
    "# Extract email address (example implementation, actual scraping will depend on the website structure)\n",
    "    email_tag = soup.find('a', href=lambda href: href and \"mailto:\" in href)\n",
    "    email_address = email_tag['href'].split(':')[1] if email_tag else 'N/A'"
   ]
  },
  {
   "cell_type": "code",
   "execution_count": null,
   "id": "096e2494-b49e-4c3f-aca2-120a437be76d",
   "metadata": {},
   "outputs": [],
   "source": [
    "return {\n",
    "        'Store Name': store['name'],\n",
    "        'Website': store['url'],\n",
    "        'Phone Number': phone_number,\n",
    "        'Email Address': email_address\n",
    "    }"
   ]
  },
  {
   "cell_type": "code",
   "execution_count": null,
   "id": "57d958c4-5551-49c0-bb76-120a0c408b90",
   "metadata": {},
   "outputs": [],
   "source": [
    "# Scrape each store and collect data\n",
    "data = []\n",
    "for store in store_urls:\n",
    "    store_data = scrape_store(store)\n",
    "    data.append(store_data)"
   ]
  },
  {
   "cell_type": "code",
   "execution_count": null,
   "id": "0374706a-9598-40b0-baaa-1c9a610020d3",
   "metadata": {},
   "outputs": [],
   "source": [
    "# Convert data to a DataFrame\n",
    "df = pd.DataFrame(data)"
   ]
  },
  {
   "cell_type": "code",
   "execution_count": null,
   "id": "b51e7878-11b0-4547-8f1b-6682803a7b32",
   "metadata": {},
   "outputs": [],
   "source": [
    "# Save data to a CSV file\n",
    "df.to_csv('contacts.csv', index=False)\n",
    "print(\"Data saved to ecommerce_contacts.csv\")"
   ]
  },
  {
   "cell_type": "code",
   "execution_count": null,
   "id": "39b3d8bc-7815-4608-bc96-74b0d171b9b3",
   "metadata": {},
   "outputs": [],
   "source": []
  }
 ],
 "metadata": {
  "kernelspec": {
   "display_name": "Python 3 (ipykernel)",
   "language": "python",
   "name": "python3"
  },
  "language_info": {
   "codemirror_mode": {
    "name": "ipython",
    "version": 3
   },
   "file_extension": ".py",
   "mimetype": "text/x-python",
   "name": "python",
   "nbconvert_exporter": "python",
   "pygments_lexer": "ipython3",
   "version": "3.12.1"
  }
 },
 "nbformat": 4,
 "nbformat_minor": 5
}
